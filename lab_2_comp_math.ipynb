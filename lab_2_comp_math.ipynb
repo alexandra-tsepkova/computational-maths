{
 "cells": [
  {
   "cell_type": "markdown",
   "metadata": {},
   "source": [
    "# Вычислительная математика. Лабораторная работа 2: решение СЛАУ"
   ]
  },
  {
   "cell_type": "code",
   "execution_count": 10,
   "metadata": {},
   "outputs": [],
   "source": [
    "from matplotlib import pyplot as plt\n",
    "import numpy as np\n",
    "import math as m\n",
    "%matplotlib inline"
   ]
  },
  {
   "cell_type": "code",
   "execution_count": 463,
   "metadata": {},
   "outputs": [
    {
     "name": "stdout",
     "output_type": "stream",
     "text": [
      "A = [[6 1]\n",
      " [1 8]]\n",
      "B = [[ 8]\n",
      " [17]]\n"
     ]
    }
   ],
   "source": [
    "A = np.matrix(\"6, 1; 1, 8\")\n",
    "B = (np.matrix(\"8, 17\")).transpose()\n",
    "print(f\"A = {A}\\nB = {B}\")"
   ]
  },
  {
   "cell_type": "code",
   "execution_count": 457,
   "metadata": {},
   "outputs": [
    {
     "name": "stdout",
     "output_type": "stream",
     "text": [
      "condition number via norm-1 1.7234042553191486\n",
      "condition number via norm-2 1.5063614866643267\n"
     ]
    }
   ],
   "source": [
    "def condition_number(A):\n",
    "    print(\"condition number via norm-1\", np.linalg.cond(A, 1))\n",
    "    print(\"condition number via norm-2\", np.linalg.cond(A))\n",
    "    \n",
    "condition_number(A)"
   ]
  },
  {
   "cell_type": "code",
   "execution_count": null,
   "metadata": {},
   "outputs": [],
   "source": []
  },
  {
   "cell_type": "code",
   "execution_count": 464,
   "metadata": {},
   "outputs": [
    {
     "name": "stdout",
     "output_type": "stream",
     "text": [
      "Needed 7 iterations\n",
      "[[0.99999096]\n",
      " [1.99998192]]\n"
     ]
    }
   ],
   "source": [
    "# метод Якоби\n",
    "\n",
    "def jacobi(A, b):\n",
    "    \n",
    "    epsilon = 0.0001\n",
    "    count = len(b)\n",
    "    \n",
    "    E = np.identity(count)\n",
    "    D = np.diagflat(A.diagonal())\n",
    "    D_inverse = np.linalg.inv(D)\n",
    "    B = E - D_inverse @ A\n",
    "#     check_jacobi(B)\n",
    "#     dd(A)\n",
    "    g = D_inverse @ b\n",
    "    \n",
    "    MAX_ITER = 150\n",
    "    Xk = np.matrix(np.zeros(count)).transpose()\n",
    "    \n",
    "    for i in range (MAX_ITER):\n",
    "        Xk1 = B @ Xk + g\n",
    "        if (max(abs(Xk - Xk1))).item() < epsilon:\n",
    "            print(f\"Needed {i + 1} iterations\")\n",
    "            break\n",
    "        Xk = Xk1\n",
    "        if i == MAX_ITER - 1:\n",
    "            print(f\"Maximum iterations reached: {i + 1}\")\n",
    "    \n",
    "    return Xk\n",
    "        \n",
    "    \n",
    "def check_jacobi(B):\n",
    "    norm1 = np.linalg.norm(B, 1)\n",
    "    norm3 = np.linalg.norm(B, np.inf)\n",
    "    norm2 = np.linalg.norm(B, 2)\n",
    "    if norm1 < 1:\n",
    "        print(f\"1 норма B = {norm1}; метод сходится\")\n",
    "    elif norm2 < 1:\n",
    "        print(f\"3 норма B = {norm2}; метод сходится\")\n",
    "    elif (norm3 < 1):\n",
    "        print(f\"2 норма B = {norm3}; метод сходится\")\n",
    "    else:\n",
    "        print(f\"норма B = {min(norm1, norm2, norm3)}; метод не сходится\")\n",
    "        \n",
    "        \n",
    "def dd(X):\n",
    "    D = np.diag(np.abs(X)) # Find diagonal coefficients\n",
    "    S = np.sum(np.abs(X), axis=1) - D # Find row sum without diagonal\n",
    "    if np.all(D >= S):\n",
    "        print ('есть диагональное преобладание')\n",
    "    else:\n",
    "        print ('нет диагонального преобладания')\n",
    "    return\n",
    "    \n",
    "print(jacobi(A, B))\n",
    "# nice_print_solutions(jacobi(A, B))"
   ]
  },
  {
   "cell_type": "code",
   "execution_count": 459,
   "metadata": {},
   "outputs": [
    {
     "name": "stdout",
     "output_type": "stream",
     "text": [
      "Needed 2 iterations\n",
      "[[1.00000301]\n",
      " [1.99999962]]\n"
     ]
    }
   ],
   "source": [
    "# метод Зейделя\n",
    "def zeidel(A, b):\n",
    "    epsilon = 0.0001\n",
    "\n",
    "    count = len(b)\n",
    "    L = np.tril(A, k=-1)\n",
    "    U = np.triu(A, k=1)\n",
    "    D = np.diagflat(A.diagonal())\n",
    "    \n",
    "#     check_zeidel(L, D, U)\n",
    "    \n",
    "    diagonal_elems = np.diag(A)\n",
    "    d = np.true_divide(b.transpose(), diagonal_elems).transpose() \n",
    "    \n",
    "    C = - (A.transpose() / diagonal_elems).transpose() \n",
    "    np.fill_diagonal(C, 0)\n",
    "        \n",
    "    MAX_ITER = 150\n",
    "    Xk = np.matrix(np.zeros(count)).transpose()\n",
    "    \n",
    "    for i in range(MAX_ITER):\n",
    "        Xk1 = np.matrix(np.zeros(count)).transpose()\n",
    "        for i in range(count):\n",
    "            Xk1[i] = d[i]\n",
    "            for j in range(0, i):\n",
    "                Xk1[i] += C[i, j] * Xk1[j]\n",
    "            for j in range(i, count):\n",
    "                Xk1[i] += C[i, j] * Xk[j]\n",
    "        if (max(abs(Xk - Xk1))).item() < epsilon:\n",
    "            print(f\"Needed {i + 1} iterations\")\n",
    "            break\n",
    "        Xk = Xk1\n",
    "        if i == MAX_ITER - 1:\n",
    "            print(\"Maximum iterations reached\")\n",
    "\n",
    "    return Xk\n",
    "    \n",
    "def check_zeidel(L, D, U):\n",
    "    B = -np.linalg.inv(L + D) @ U\n",
    "    \n",
    "    norm1 = np.linalg.norm(B, 1)\n",
    "    norm3 = np.linalg.norm(B, np.inf)\n",
    "    norm2 = np.linalg.norm(B, 2)\n",
    "    if norm1 < 1:\n",
    "        print(f\"норма -(L + D)^-1 * U = {norm1}; метод сходится\")\n",
    "    elif norm2 < 1:\n",
    "        print(f\"норма -(L + D)^-1 * U = {norm2}; метод сходится\")\n",
    "    elif (norm3 < 1):\n",
    "        print(f\"норма -(L + D)^-1 * U = {norm3}; метод сходится\")\n",
    "    else:\n",
    "        print(f\"норма -(L + D)^-1 * U = {min(norm1, norm2, norm3)}; метод не сходится\")\n",
    "    \n",
    "print(zeidel(A, B))\n",
    "# nice_print_solutions(zeidel(A, B))"
   ]
  },
  {
   "cell_type": "code",
   "execution_count": 460,
   "metadata": {},
   "outputs": [
    {
     "name": "stdout",
     "output_type": "stream",
     "text": [
      "есть диагональное преобладание\n",
      "[1.0, 2.0]\n"
     ]
    }
   ],
   "source": [
    "# метод трехдиагональной прогонки\n",
    "\n",
    "def get_left_v(A, B):\n",
    "    return ((A[0, 1]) / (-A[0, 0])).item()\n",
    "\n",
    "def get_left_u(A, B):\n",
    "    return (-B[0, 0] / (-A[0, 0])).item()\n",
    "\n",
    "def get_right_u(A, B, u, v, i):\n",
    "    return ((A[i, i-1] * u[i-1] - B[i, 0])/(-A[i, i] - A[i, i-1] * v[i-1])).item()\n",
    "\n",
    "def get_middle_v(A, B, u, v, i):\n",
    "    return ((A[i, i+1])/(-A[i, i] - A[i, i-1] * v[i-1])).item()\n",
    "\n",
    "def get_middle_u(A, B, u, v, i):\n",
    "    return ((A[i, i-1] * u[i-1] - B[i])/(-A[i, i] - A[i, i-1] * v[i-1])).item()\n",
    "\n",
    "\n",
    "\n",
    "def tridiagonal(A, B):\n",
    "    rows = A.shape[0]\n",
    "    columns = A.shape[1]\n",
    "    \n",
    "    dd(A)\n",
    "    \n",
    "    v = []\n",
    "    u = []\n",
    "    x = []\n",
    "    \n",
    "    # вперед\n",
    "    for i in range(rows):\n",
    "        if i == 0:\n",
    "            v.append(get_left_v(A, B))\n",
    "            u.append(get_left_u(A, B))\n",
    "        elif i == rows - 1:\n",
    "            v.append(0)\n",
    "            u.append(get_right_u(A, B, u, v, i))\n",
    "        else:\n",
    "            v.append(get_middle_v(A, B, u, v, i))\n",
    "            u.append(get_middle_u(A, B, u, v, i))\n",
    "    \n",
    "    # назад и вычисляем результат\n",
    "    x.append(u[rows - 1])\n",
    "\n",
    "    for j in range(rows - 1, 0, -1):\n",
    "        s = x[rows - 1 - j] * v[j - 1] + u[j - 1]\n",
    "        x.append(s)\n",
    "    \n",
    "    x.reverse()\n",
    "    return x\n",
    "\n",
    "print(tridiagonal(A, B))\n",
    "# nice_print_solutions(tridiagonal(A, B))"
   ]
  },
  {
   "cell_type": "code",
   "execution_count": 350,
   "metadata": {},
   "outputs": [],
   "source": [
    "def dot(A, B):\n",
    "    res = 0\n",
    "    for i in range(len(A)):\n",
    "        res += A[i] * B[i]\n",
    "    return res"
   ]
  },
  {
   "cell_type": "code",
   "execution_count": 451,
   "metadata": {},
   "outputs": [
    {
     "name": "stdout",
     "output_type": "stream",
     "text": [
      "A = [[1.   0.99]\n",
      " [0.99 1.  ]]\n",
      "B = [[1]\n",
      " [1]]\n"
     ]
    }
   ],
   "source": [
    "A = np.matrix(\"1, 0.99; 0.99, 1\")\n",
    "B = (np.matrix(\"1, 1\")).transpose()\n",
    "print(f\"A = {A}\\nB = {B}\")"
   ]
  },
  {
   "cell_type": "code",
   "execution_count": 330,
   "metadata": {},
   "outputs": [
    {
     "name": "stdout",
     "output_type": "stream",
     "text": [
      "A = [[100  99]\n",
      " [ 99  98]]\n",
      "B = [[199]\n",
      " [197]]\n"
     ]
    }
   ],
   "source": [
    "A = np.matrix(\"100, 99; 99, 98\")\n",
    "B = (np.matrix(\"199, 197\")).transpose()\n",
    "print(f\"A = {A}\\nB = {B}\")"
   ]
  },
  {
   "cell_type": "code",
   "execution_count": 465,
   "metadata": {},
   "outputs": [
    {
     "name": "stdout",
     "output_type": "stream",
     "text": [
      "матрица симметрична\n",
      "матрица вещественна\n",
      "матрица положительно определена\n",
      "True True True\n",
      "Needed 4 iterations\n",
      "[[0.99998171]\n",
      " [2.00000826]]\n"
     ]
    }
   ],
   "source": [
    "# Метод наискорейшего спуска\n",
    "\n",
    "def descend(A, b):\n",
    "    \n",
    "    print(check_symmetric(A), is_real(A), is_pos_def(A))\n",
    "    \n",
    "    epsilon = 0.0001\n",
    "    count = len(b)\n",
    "\n",
    "    MAX_ITER = 10\n",
    "    Xk = np.matrix(np.zeros(count)).transpose()\n",
    "    for i in range(MAX_ITER):\n",
    "        rn = (A @ Xk - b)\n",
    "#         print(rn, dot(rn, rn), (dot((A @ rn), rn)))\n",
    "        alpha_double = dot(rn, rn) / (dot((A @ rn), rn))\n",
    "        Xk1 = Xk - (rn * alpha_double)\n",
    "#         print(Xk1, Xk)\n",
    "        \n",
    "        if (max(abs(Xk - Xk1))).item() < epsilon:\n",
    "            print(f\"Needed {i + 1} iterations\")\n",
    "            break\n",
    "        Xk = Xk1\n",
    "        if i == MAX_ITER - 1:\n",
    "            print(\"Maximum iterations reached\")\n",
    "            \n",
    "    return Xk\n",
    "\n",
    "print(descend(A, B))  \n",
    "# nice_print_solutions(descend(A, B))"
   ]
  },
  {
   "cell_type": "code",
   "execution_count": 466,
   "metadata": {},
   "outputs": [
    {
     "name": "stdout",
     "output_type": "stream",
     "text": [
      "Needed 4 iterations\n",
      "[[0.99998778]\n",
      " [2.00000536]]\n"
     ]
    }
   ],
   "source": [
    "# Метод минимальных невязок\n",
    "\n",
    "def residuals(A, b):\n",
    "    \n",
    "#     print(check_symmetric(A), is_real(A), is_pos_def(A))\n",
    "    \n",
    "    epsilon = 0.0001\n",
    "    count = len(b)\n",
    "\n",
    "    MAX_ITER = 10\n",
    "    Xk = np.matrix(np.zeros(count)).transpose()\n",
    "    for i in range(MAX_ITER):\n",
    "        rn = (A @ Xk - b)\n",
    "        alpha_double = dot((A @ rn), rn) / dot((A @ rn), (A @ rn))\n",
    "        Xk1 = Xk - (rn * alpha_double)\n",
    "        \n",
    "        if (max(abs(Xk - Xk1))).item() < epsilon:\n",
    "            print(f\"Needed {i + 1} iterations\")\n",
    "            break\n",
    "        Xk = Xk1\n",
    "        if i == MAX_ITER - 1:\n",
    "            print(\"Maximum iterations reached\")\n",
    "            \n",
    "    return Xk\n",
    "\n",
    "print(residuals(A, B))   \n",
    "# nice_print_solutions(residuals(A, B))"
   ]
  },
  {
   "cell_type": "code",
   "execution_count": 271,
   "metadata": {},
   "outputs": [],
   "source": [
    "def nice_print_solutions(X):\n",
    "    X = np.array(X)\n",
    "    print(\"Solutions:\")\n",
    "    for i in range (len(X)):\n",
    "        print(\"x{} = {%.6f}\".format(i, X[i]))"
   ]
  },
  {
   "cell_type": "code",
   "execution_count": 399,
   "metadata": {},
   "outputs": [],
   "source": [
    "def is_pos_def(x):\n",
    "    if np.all(np.linalg.eigvals(x) > 0):\n",
    "        print(\"матрица положительно определена\")\n",
    "    else:\n",
    "        print(\"матрица не положительно определена\")\n",
    "    return np.all(np.linalg.eigvals(x) > 0)\n",
    "\n",
    "def check_symmetric(a, tol=1e-8):\n",
    "    if np.all(np.abs(a-a.T) < tol):\n",
    "        print(\"матрица симметрична\")\n",
    "    else: print(\"матрица несимметрична\")\n",
    "        \n",
    "    return np.all(np.abs(a-a.T) < tol)\n",
    "\n",
    "def is_real(x):\n",
    "    if np.all(np.isreal(x)):\n",
    "        print(\"матрица вещественна\")\n",
    "        return True\n",
    "    else:\n",
    "        print(\"матрица не вещественна\")\n",
    "    return False"
   ]
  },
  {
   "cell_type": "code",
   "execution_count": 402,
   "metadata": {},
   "outputs": [
    {
     "name": "stdout",
     "output_type": "stream",
     "text": [
      "матрица симметрична\n",
      "матрица вещественна\n",
      "матрица положительно определена\n",
      "True True True\n"
     ]
    }
   ],
   "source": [
    "print(check_symmetric(A), is_real(A), is_pos_def(A))"
   ]
  }
 ],
 "metadata": {
  "kernelspec": {
   "display_name": "Python 3",
   "language": "python",
   "name": "python3"
  },
  "language_info": {
   "codemirror_mode": {
    "name": "ipython",
    "version": 3
   },
   "file_extension": ".py",
   "mimetype": "text/x-python",
   "name": "python",
   "nbconvert_exporter": "python",
   "pygments_lexer": "ipython3",
   "version": "3.8.10"
  }
 },
 "nbformat": 4,
 "nbformat_minor": 4
}
